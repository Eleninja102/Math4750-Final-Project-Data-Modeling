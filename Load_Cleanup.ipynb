{
 "cells": [
  {
   "cell_type": "code",
   "execution_count": 1,
   "metadata": {
    "colab": {
     "base_uri": "https://localhost:8080/"
    },
    "id": "oskV8D0JqERk",
    "outputId": "f500507d-d81a-472c-b1cc-07fb9a1a5bfe"
   },
   "outputs": [],
   "source": [
    "# from google.colab import drive\n",
    "# drive.mount('/content/drive')\n",
    "\n",
    "import pandas as pd\n",
    "\n"
   ]
  },
  {
   "cell_type": "code",
   "execution_count": 2,
   "metadata": {
    "id": "hRS8V3_ovCBH"
   },
   "outputs": [],
   "source": [
    "# df = pd.read_csv('/content/drive/MyDrive/Colab Notebooks/Crimes_2022.csv')"
   ]
  },
  {
   "cell_type": "code",
   "execution_count": 3,
   "metadata": {},
   "outputs": [],
   "source": [
    "df = pd.read_csv('https://data.cityofchicago.org/api/views/9hwr-2zxp/rows.csv?accessType=DOWNLOAD')"
   ]
  },
  {
   "cell_type": "code",
   "execution_count": 4,
   "metadata": {
    "colab": {
     "base_uri": "https://localhost:8080/",
     "height": 481
    },
    "id": "htqy8cTIvNM2",
    "outputId": "1290adb2-1ac6-44bb-d9f2-92abf050f648"
   },
   "outputs": [
    {
     "data": {
      "text/html": [
       "<div>\n",
       "<style scoped>\n",
       "    .dataframe tbody tr th:only-of-type {\n",
       "        vertical-align: middle;\n",
       "    }\n",
       "\n",
       "    .dataframe tbody tr th {\n",
       "        vertical-align: top;\n",
       "    }\n",
       "\n",
       "    .dataframe thead th {\n",
       "        text-align: right;\n",
       "    }\n",
       "</style>\n",
       "<table border=\"1\" class=\"dataframe\">\n",
       "  <thead>\n",
       "    <tr style=\"text-align: right;\">\n",
       "      <th></th>\n",
       "      <th>ID</th>\n",
       "      <th>Case Number</th>\n",
       "      <th>Date</th>\n",
       "      <th>Block</th>\n",
       "      <th>IUCR</th>\n",
       "      <th>Primary Type</th>\n",
       "      <th>Description</th>\n",
       "      <th>Location Description</th>\n",
       "      <th>Arrest</th>\n",
       "      <th>Domestic</th>\n",
       "      <th>...</th>\n",
       "      <th>Ward</th>\n",
       "      <th>Community Area</th>\n",
       "      <th>FBI Code</th>\n",
       "      <th>X Coordinate</th>\n",
       "      <th>Y Coordinate</th>\n",
       "      <th>Year</th>\n",
       "      <th>Updated On</th>\n",
       "      <th>Latitude</th>\n",
       "      <th>Longitude</th>\n",
       "      <th>Location</th>\n",
       "    </tr>\n",
       "  </thead>\n",
       "  <tbody>\n",
       "    <tr>\n",
       "      <th>0</th>\n",
       "      <td>12592454</td>\n",
       "      <td>JF113025</td>\n",
       "      <td>01/14/2022 03:55:00 PM</td>\n",
       "      <td>067XX S MORGAN ST</td>\n",
       "      <td>2826</td>\n",
       "      <td>OTHER OFFENSE</td>\n",
       "      <td>HARASSMENT BY ELECTRONIC MEANS</td>\n",
       "      <td>RESIDENCE</td>\n",
       "      <td>False</td>\n",
       "      <td>True</td>\n",
       "      <td>...</td>\n",
       "      <td>16.0</td>\n",
       "      <td>68</td>\n",
       "      <td>26</td>\n",
       "      <td>1170805.0</td>\n",
       "      <td>1860170.0</td>\n",
       "      <td>2022</td>\n",
       "      <td>09/14/2023 03:41:59 PM</td>\n",
       "      <td>41.771782</td>\n",
       "      <td>-87.649437</td>\n",
       "      <td>(41.771782439, -87.649436929)</td>\n",
       "    </tr>\n",
       "    <tr>\n",
       "      <th>1</th>\n",
       "      <td>12785595</td>\n",
       "      <td>JF346553</td>\n",
       "      <td>08/05/2022 09:00:00 PM</td>\n",
       "      <td>072XX S UNIVERSITY AVE</td>\n",
       "      <td>1544</td>\n",
       "      <td>SEX OFFENSE</td>\n",
       "      <td>SEXUAL EXPLOITATION OF A CHILD</td>\n",
       "      <td>APARTMENT</td>\n",
       "      <td>True</td>\n",
       "      <td>False</td>\n",
       "      <td>...</td>\n",
       "      <td>5.0</td>\n",
       "      <td>69</td>\n",
       "      <td>17</td>\n",
       "      <td>1185135.0</td>\n",
       "      <td>1857211.0</td>\n",
       "      <td>2022</td>\n",
       "      <td>09/14/2023 03:41:59 PM</td>\n",
       "      <td>41.763338</td>\n",
       "      <td>-87.597001</td>\n",
       "      <td>(41.763337967, -87.597001131)</td>\n",
       "    </tr>\n",
       "    <tr>\n",
       "      <th>2</th>\n",
       "      <td>12808281</td>\n",
       "      <td>JF373517</td>\n",
       "      <td>08/14/2022 02:00:00 PM</td>\n",
       "      <td>055XX W ARDMORE AVE</td>\n",
       "      <td>1562</td>\n",
       "      <td>SEX OFFENSE</td>\n",
       "      <td>AGGRAVATED CRIMINAL SEXUAL ABUSE</td>\n",
       "      <td>RESIDENCE</td>\n",
       "      <td>False</td>\n",
       "      <td>False</td>\n",
       "      <td>...</td>\n",
       "      <td>39.0</td>\n",
       "      <td>11</td>\n",
       "      <td>17</td>\n",
       "      <td>1138383.0</td>\n",
       "      <td>1937953.0</td>\n",
       "      <td>2022</td>\n",
       "      <td>09/14/2023 03:41:59 PM</td>\n",
       "      <td>41.985875</td>\n",
       "      <td>-87.766404</td>\n",
       "      <td>(41.985875279, -87.766403857)</td>\n",
       "    </tr>\n",
       "    <tr>\n",
       "      <th>3</th>\n",
       "      <td>12888104</td>\n",
       "      <td>JF469015</td>\n",
       "      <td>11/10/2022 03:47:00 AM</td>\n",
       "      <td>072XX S MAY ST</td>\n",
       "      <td>1477</td>\n",
       "      <td>WEAPONS VIOLATION</td>\n",
       "      <td>RECKLESS FIREARM DISCHARGE</td>\n",
       "      <td>STREET</td>\n",
       "      <td>False</td>\n",
       "      <td>False</td>\n",
       "      <td>...</td>\n",
       "      <td>17.0</td>\n",
       "      <td>68</td>\n",
       "      <td>15</td>\n",
       "      <td>1169903.0</td>\n",
       "      <td>1856822.0</td>\n",
       "      <td>2022</td>\n",
       "      <td>09/14/2023 03:41:59 PM</td>\n",
       "      <td>41.762615</td>\n",
       "      <td>-87.652840</td>\n",
       "      <td>(41.76261474, -87.652840463)</td>\n",
       "    </tr>\n",
       "    <tr>\n",
       "      <th>4</th>\n",
       "      <td>13209277</td>\n",
       "      <td>JG422539</td>\n",
       "      <td>08/15/2022 09:00:00 AM</td>\n",
       "      <td>0000X W JACKSON BLVD</td>\n",
       "      <td>0810</td>\n",
       "      <td>THEFT</td>\n",
       "      <td>OVER $500</td>\n",
       "      <td>COMMERCIAL / BUSINESS OFFICE</td>\n",
       "      <td>False</td>\n",
       "      <td>False</td>\n",
       "      <td>...</td>\n",
       "      <td>4.0</td>\n",
       "      <td>32</td>\n",
       "      <td>06</td>\n",
       "      <td>NaN</td>\n",
       "      <td>NaN</td>\n",
       "      <td>2022</td>\n",
       "      <td>09/14/2023 03:43:09 PM</td>\n",
       "      <td>NaN</td>\n",
       "      <td>NaN</td>\n",
       "      <td>NaN</td>\n",
       "    </tr>\n",
       "  </tbody>\n",
       "</table>\n",
       "<p>5 rows × 22 columns</p>\n",
       "</div>"
      ],
      "text/plain": [
       "         ID Case Number                    Date                   Block  IUCR  \\\n",
       "0  12592454    JF113025  01/14/2022 03:55:00 PM       067XX S MORGAN ST  2826   \n",
       "1  12785595    JF346553  08/05/2022 09:00:00 PM  072XX S UNIVERSITY AVE  1544   \n",
       "2  12808281    JF373517  08/14/2022 02:00:00 PM     055XX W ARDMORE AVE  1562   \n",
       "3  12888104    JF469015  11/10/2022 03:47:00 AM          072XX S MAY ST  1477   \n",
       "4  13209277    JG422539  08/15/2022 09:00:00 AM    0000X W JACKSON BLVD  0810   \n",
       "\n",
       "        Primary Type                       Description  \\\n",
       "0      OTHER OFFENSE    HARASSMENT BY ELECTRONIC MEANS   \n",
       "1        SEX OFFENSE    SEXUAL EXPLOITATION OF A CHILD   \n",
       "2        SEX OFFENSE  AGGRAVATED CRIMINAL SEXUAL ABUSE   \n",
       "3  WEAPONS VIOLATION        RECKLESS FIREARM DISCHARGE   \n",
       "4              THEFT                         OVER $500   \n",
       "\n",
       "           Location Description  Arrest  Domestic  ...  Ward  Community Area  \\\n",
       "0                     RESIDENCE   False      True  ...  16.0              68   \n",
       "1                     APARTMENT    True     False  ...   5.0              69   \n",
       "2                     RESIDENCE   False     False  ...  39.0              11   \n",
       "3                        STREET   False     False  ...  17.0              68   \n",
       "4  COMMERCIAL / BUSINESS OFFICE   False     False  ...   4.0              32   \n",
       "\n",
       "   FBI Code  X Coordinate Y Coordinate  Year              Updated On  \\\n",
       "0        26     1170805.0    1860170.0  2022  09/14/2023 03:41:59 PM   \n",
       "1        17     1185135.0    1857211.0  2022  09/14/2023 03:41:59 PM   \n",
       "2        17     1138383.0    1937953.0  2022  09/14/2023 03:41:59 PM   \n",
       "3        15     1169903.0    1856822.0  2022  09/14/2023 03:41:59 PM   \n",
       "4        06           NaN          NaN  2022  09/14/2023 03:43:09 PM   \n",
       "\n",
       "    Latitude  Longitude                       Location  \n",
       "0  41.771782 -87.649437  (41.771782439, -87.649436929)  \n",
       "1  41.763338 -87.597001  (41.763337967, -87.597001131)  \n",
       "2  41.985875 -87.766404  (41.985875279, -87.766403857)  \n",
       "3  41.762615 -87.652840   (41.76261474, -87.652840463)  \n",
       "4        NaN        NaN                            NaN  \n",
       "\n",
       "[5 rows x 22 columns]"
      ]
     },
     "execution_count": 4,
     "metadata": {},
     "output_type": "execute_result"
    }
   ],
   "source": [
    "df.head()"
   ]
  },
  {
   "cell_type": "code",
   "execution_count": 5,
   "metadata": {
    "colab": {
     "base_uri": "https://localhost:8080/"
    },
    "id": "fL4rzIzSwfNI",
    "outputId": "b9da1fef-78c3-472d-fddc-3d2e79594f7e"
   },
   "outputs": [
    {
     "name": "stdout",
     "output_type": "stream",
     "text": [
      "<class 'pandas.core.frame.DataFrame'>\n",
      "RangeIndex: 239602 entries, 0 to 239601\n",
      "Data columns (total 22 columns):\n",
      " #   Column                Non-Null Count   Dtype  \n",
      "---  ------                --------------   -----  \n",
      " 0   ID                    239602 non-null  int64  \n",
      " 1   Case Number           239602 non-null  object \n",
      " 2   Date                  239602 non-null  object \n",
      " 3   Block                 239602 non-null  object \n",
      " 4   IUCR                  239602 non-null  object \n",
      " 5   Primary Type          239602 non-null  object \n",
      " 6   Description           239602 non-null  object \n",
      " 7   Location Description  238633 non-null  object \n",
      " 8   Arrest                239602 non-null  bool   \n",
      " 9   Domestic              239602 non-null  bool   \n",
      " 10  Beat                  239602 non-null  int64  \n",
      " 11  District              239602 non-null  int64  \n",
      " 12  Ward                  239592 non-null  float64\n",
      " 13  Community Area        239602 non-null  int64  \n",
      " 14  FBI Code              239602 non-null  object \n",
      " 15  X Coordinate          234886 non-null  float64\n",
      " 16  Y Coordinate          234886 non-null  float64\n",
      " 17  Year                  239602 non-null  int64  \n",
      " 18  Updated On            239602 non-null  object \n",
      " 19  Latitude              234886 non-null  float64\n",
      " 20  Longitude             234886 non-null  float64\n",
      " 21  Location              234886 non-null  object \n",
      "dtypes: bool(2), float64(5), int64(5), object(10)\n",
      "memory usage: 37.0+ MB\n"
     ]
    }
   ],
   "source": [
    "df.info()"
   ]
  },
  {
   "cell_type": "code",
   "execution_count": 6,
   "metadata": {},
   "outputs": [
    {
     "data": {
      "text/plain": [
       "(239602, 22)"
      ]
     },
     "execution_count": 6,
     "metadata": {},
     "output_type": "execute_result"
    }
   ],
   "source": [
    "df.shape"
   ]
  },
  {
   "cell_type": "markdown",
   "metadata": {
    "id": "_6UJiql1xe1D"
   },
   "source": [
    "## Data Cleaning:"
   ]
  },
  {
   "cell_type": "code",
   "execution_count": 7,
   "metadata": {
    "id": "DIyG__pUxqxF"
   },
   "outputs": [],
   "source": [
    "df = df.drop(columns=['ID','Case Number','Year','Location','Block','Primary Type', 'Updated On'])\n",
    "df['Domestic'] =  df['Domestic'].astype(int) # Converting out of Boolean\n",
    "df['Arrest'] = df['Arrest'].astype(int)"
   ]
  },
  {
   "cell_type": "code",
   "execution_count": 8,
   "metadata": {},
   "outputs": [],
   "source": [
    "df = df.drop(columns=['X Coordinate', 'Y Coordinate'])"
   ]
  },
  {
   "cell_type": "code",
   "execution_count": 9,
   "metadata": {},
   "outputs": [],
   "source": [
    "df['IUCR'] = df['IUCR'].str.extract(r'(\\d+)', expand=False).astype(int)"
   ]
  },
  {
   "cell_type": "code",
   "execution_count": 10,
   "metadata": {},
   "outputs": [],
   "source": [
    "df['FBI Code'] = df['FBI Code'].str.extract(r'(\\d+)', expand=False).astype(int)"
   ]
  },
  {
   "cell_type": "code",
   "execution_count": 11,
   "metadata": {},
   "outputs": [],
   "source": [
    "df['Date'] = pd.to_datetime(df['Date'], errors='coerce', format='%m/%d/%Y %I:%M:%S %p')"
   ]
  },
  {
   "cell_type": "code",
   "execution_count": 12,
   "metadata": {},
   "outputs": [],
   "source": [
    "# df['Updated On'] = pd.to_datetime(df['Updated On'], errors='coerce', format='%m/%d/%Y %I:%M:%S %p')"
   ]
  },
  {
   "cell_type": "code",
   "execution_count": 13,
   "metadata": {},
   "outputs": [
    {
     "name": "stdout",
     "output_type": "stream",
     "text": [
      "<class 'pandas.core.frame.DataFrame'>\n",
      "Index: 234233 entries, 0 to 239601\n",
      "Data columns (total 13 columns):\n",
      " #   Column                Non-Null Count   Dtype         \n",
      "---  ------                --------------   -----         \n",
      " 0   Date                  234233 non-null  datetime64[ns]\n",
      " 1   IUCR                  234233 non-null  int64         \n",
      " 2   Description           234233 non-null  object        \n",
      " 3   Location Description  234233 non-null  object        \n",
      " 4   Arrest                234233 non-null  int64         \n",
      " 5   Domestic              234233 non-null  int64         \n",
      " 6   Beat                  234233 non-null  int64         \n",
      " 7   District              234233 non-null  int64         \n",
      " 8   Ward                  234233 non-null  float64       \n",
      " 9   Community Area        234233 non-null  int64         \n",
      " 10  FBI Code              234233 non-null  int64         \n",
      " 11  Latitude              234233 non-null  float64       \n",
      " 12  Longitude             234233 non-null  float64       \n",
      "dtypes: datetime64[ns](1), float64(3), int64(7), object(2)\n",
      "memory usage: 25.0+ MB\n"
     ]
    }
   ],
   "source": [
    "df = df.dropna()\n",
    "df.isnull().sum()\n",
    "df.info()"
   ]
  },
  {
   "cell_type": "code",
   "execution_count": 14,
   "metadata": {},
   "outputs": [],
   "source": [
    "districts_to_keep = [1, 13, 12, 11, 2, 9, 16, 14]\n"
   ]
  },
  {
   "cell_type": "code",
   "execution_count": 15,
   "metadata": {},
   "outputs": [],
   "source": [
    "filtered_df = df[df['District'].isin(districts_to_keep)].drop_duplicates()"
   ]
  },
  {
   "cell_type": "code",
   "execution_count": 16,
   "metadata": {},
   "outputs": [
    {
     "data": {
      "text/plain": [
       "(78084, 13)"
      ]
     },
     "execution_count": 16,
     "metadata": {},
     "output_type": "execute_result"
    }
   ],
   "source": [
    "filtered_df.shape"
   ]
  },
  {
   "cell_type": "code",
   "execution_count": 17,
   "metadata": {
    "colab": {
     "base_uri": "https://localhost:8080/"
    },
    "id": "aYipkeSrfTEZ",
    "outputId": "aa2b2afd-4586-4819-d6af-0b2e599b50b3"
   },
   "outputs": [
    {
     "name": "stdout",
     "output_type": "stream",
     "text": [
      "Number of True Arrests: 27246\n",
      "Total Number of Crime Cases: 234233\n",
      "Percentage of True Arrests: 11.632007445577694%\n"
     ]
    }
   ],
   "source": [
    "num_true_arrests = df['Arrest'].sum()\n",
    "print(f\"Number of True Arrests: {num_true_arrests}\")\n",
    "total_cases = len(df)\n",
    "print(f\"Total Number of Crime Cases: {total_cases}\")\n",
    "print(f\"Percentage of True Arrests: {num_true_arrests/total_cases*100}%\") # The data is imbalanced"
   ]
  },
  {
   "cell_type": "code",
   "execution_count": 18,
   "metadata": {},
   "outputs": [
    {
     "name": "stdout",
     "output_type": "stream",
     "text": [
      "Number of True Arrests: 9632\n",
      "Total Number of Crime Cases: 78084\n",
      "Percentage of True Arrests: 12.335433635571947%\n"
     ]
    }
   ],
   "source": [
    "num_true_arrests = filtered_df['Arrest'].sum()\n",
    "print(f\"Number of True Arrests: {num_true_arrests}\")\n",
    "total_cases = len(filtered_df)\n",
    "print(f\"Total Number of Crime Cases: {total_cases}\")\n",
    "print(f\"Percentage of True Arrests: {num_true_arrests/total_cases*100}%\") "
   ]
  },
  {
   "cell_type": "code",
   "execution_count": 19,
   "metadata": {},
   "outputs": [],
   "source": [
    "filtered_df.to_pickle('Chicago_crime_2022_cleaned.pickle')\n",
    "filtered_df.to_json('Chicago_crime_2022_cleaned.json')\n",
    "filtered_df.to_csv('Chicago_crime_2022_cleaned.csv',  index=False)"
   ]
  },
  {
   "cell_type": "code",
   "execution_count": null,
   "metadata": {},
   "outputs": [],
   "source": []
  }
 ],
 "metadata": {
  "colab": {
   "provenance": []
  },
  "kernelspec": {
   "display_name": ".venv",
   "language": "python",
   "name": "python3"
  },
  "language_info": {
   "codemirror_mode": {
    "name": "ipython",
    "version": 3
   },
   "file_extension": ".py",
   "mimetype": "text/x-python",
   "name": "python",
   "nbconvert_exporter": "python",
   "pygments_lexer": "ipython3",
   "version": "3.13.0"
  }
 },
 "nbformat": 4,
 "nbformat_minor": 4
}
