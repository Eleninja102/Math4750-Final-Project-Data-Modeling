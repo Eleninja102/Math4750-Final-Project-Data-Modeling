{
 "cells": [
  {
   "cell_type": "code",
   "execution_count": 19,
   "metadata": {
    "colab": {
     "base_uri": "https://localhost:8080/"
    },
    "id": "oskV8D0JqERk",
    "outputId": "f500507d-d81a-472c-b1cc-07fb9a1a5bfe"
   },
   "outputs": [],
   "source": [
    "# from google.colab import drive\n",
    "# drive.mount('/content/drive')\n",
    "\n",
    "import pandas as pd"
   ]
  },
  {
   "cell_type": "code",
   "execution_count": 20,
   "metadata": {
    "id": "hRS8V3_ovCBH"
   },
   "outputs": [],
   "source": [
    "# df = pd.read_csv('/content/drive/MyDrive/Colab Notebooks/Crimes_2022.csv')"
   ]
  },
  {
   "cell_type": "code",
   "execution_count": 21,
   "metadata": {},
   "outputs": [],
   "source": [
    "df = pd.read_csv('https://data.cityofchicago.org/api/views/9hwr-2zxp/rows.csv?accessType=DOWNLOAD')"
   ]
  },
  {
   "cell_type": "code",
   "execution_count": 22,
   "metadata": {
    "colab": {
     "base_uri": "https://localhost:8080/",
     "height": 481
    },
    "id": "htqy8cTIvNM2",
    "outputId": "1290adb2-1ac6-44bb-d9f2-92abf050f648"
   },
   "outputs": [
    {
     "data": {
      "text/html": [
       "<div>\n",
       "<style scoped>\n",
       "    .dataframe tbody tr th:only-of-type {\n",
       "        vertical-align: middle;\n",
       "    }\n",
       "\n",
       "    .dataframe tbody tr th {\n",
       "        vertical-align: top;\n",
       "    }\n",
       "\n",
       "    .dataframe thead th {\n",
       "        text-align: right;\n",
       "    }\n",
       "</style>\n",
       "<table border=\"1\" class=\"dataframe\">\n",
       "  <thead>\n",
       "    <tr style=\"text-align: right;\">\n",
       "      <th></th>\n",
       "      <th>ID</th>\n",
       "      <th>Case Number</th>\n",
       "      <th>Date</th>\n",
       "      <th>Block</th>\n",
       "      <th>IUCR</th>\n",
       "      <th>Primary Type</th>\n",
       "      <th>Description</th>\n",
       "      <th>Location Description</th>\n",
       "      <th>Arrest</th>\n",
       "      <th>Domestic</th>\n",
       "      <th>...</th>\n",
       "      <th>Ward</th>\n",
       "      <th>Community Area</th>\n",
       "      <th>FBI Code</th>\n",
       "      <th>X Coordinate</th>\n",
       "      <th>Y Coordinate</th>\n",
       "      <th>Year</th>\n",
       "      <th>Updated On</th>\n",
       "      <th>Latitude</th>\n",
       "      <th>Longitude</th>\n",
       "      <th>Location</th>\n",
       "    </tr>\n",
       "  </thead>\n",
       "  <tbody>\n",
       "    <tr>\n",
       "      <th>0</th>\n",
       "      <td>12651978</td>\n",
       "      <td>JF185322</td>\n",
       "      <td>03/24/2022 05:07:00 PM</td>\n",
       "      <td>012XX S WABASH AVE</td>\n",
       "      <td>0910</td>\n",
       "      <td>MOTOR VEHICLE THEFT</td>\n",
       "      <td>AUTOMOBILE</td>\n",
       "      <td>GAS STATION</td>\n",
       "      <td>False</td>\n",
       "      <td>False</td>\n",
       "      <td>...</td>\n",
       "      <td>34.0</td>\n",
       "      <td>33</td>\n",
       "      <td>07</td>\n",
       "      <td>1176963.0</td>\n",
       "      <td>1894862.0</td>\n",
       "      <td>2022</td>\n",
       "      <td>09/02/2024 03:40:51 PM</td>\n",
       "      <td>41.866844</td>\n",
       "      <td>-87.625817</td>\n",
       "      <td>(41.866843668, -87.625816668)</td>\n",
       "    </tr>\n",
       "    <tr>\n",
       "      <th>1</th>\n",
       "      <td>12592454</td>\n",
       "      <td>JF113025</td>\n",
       "      <td>01/14/2022 03:55:00 PM</td>\n",
       "      <td>067XX S MORGAN ST</td>\n",
       "      <td>2826</td>\n",
       "      <td>OTHER OFFENSE</td>\n",
       "      <td>HARASSMENT BY ELECTRONIC MEANS</td>\n",
       "      <td>RESIDENCE</td>\n",
       "      <td>False</td>\n",
       "      <td>True</td>\n",
       "      <td>...</td>\n",
       "      <td>16.0</td>\n",
       "      <td>68</td>\n",
       "      <td>26</td>\n",
       "      <td>1170805.0</td>\n",
       "      <td>1860170.0</td>\n",
       "      <td>2022</td>\n",
       "      <td>09/14/2023 03:41:59 PM</td>\n",
       "      <td>41.771782</td>\n",
       "      <td>-87.649437</td>\n",
       "      <td>(41.771782439, -87.649436929)</td>\n",
       "    </tr>\n",
       "    <tr>\n",
       "      <th>2</th>\n",
       "      <td>12601676</td>\n",
       "      <td>JF124024</td>\n",
       "      <td>01/13/2022 04:00:00 PM</td>\n",
       "      <td>031XX W AUGUSTA BLVD</td>\n",
       "      <td>1752</td>\n",
       "      <td>OFFENSE INVOLVING CHILDREN</td>\n",
       "      <td>AGGRAVATED CRIMINAL SEXUAL ABUSE BY FAMILY MEMBER</td>\n",
       "      <td>RESIDENCE</td>\n",
       "      <td>False</td>\n",
       "      <td>True</td>\n",
       "      <td>...</td>\n",
       "      <td>36.0</td>\n",
       "      <td>23</td>\n",
       "      <td>17</td>\n",
       "      <td>1155171.0</td>\n",
       "      <td>1906486.0</td>\n",
       "      <td>2022</td>\n",
       "      <td>09/14/2023 03:41:59 PM</td>\n",
       "      <td>41.899206</td>\n",
       "      <td>-87.705506</td>\n",
       "      <td>(41.899206068, -87.705505587)</td>\n",
       "    </tr>\n",
       "    <tr>\n",
       "      <th>3</th>\n",
       "      <td>12785595</td>\n",
       "      <td>JF346553</td>\n",
       "      <td>08/05/2022 09:00:00 PM</td>\n",
       "      <td>072XX S UNIVERSITY AVE</td>\n",
       "      <td>1544</td>\n",
       "      <td>SEX OFFENSE</td>\n",
       "      <td>SEXUAL EXPLOITATION OF A CHILD</td>\n",
       "      <td>APARTMENT</td>\n",
       "      <td>True</td>\n",
       "      <td>False</td>\n",
       "      <td>...</td>\n",
       "      <td>5.0</td>\n",
       "      <td>69</td>\n",
       "      <td>17</td>\n",
       "      <td>1185135.0</td>\n",
       "      <td>1857211.0</td>\n",
       "      <td>2022</td>\n",
       "      <td>09/14/2023 03:41:59 PM</td>\n",
       "      <td>41.763338</td>\n",
       "      <td>-87.597001</td>\n",
       "      <td>(41.763337967, -87.597001131)</td>\n",
       "    </tr>\n",
       "    <tr>\n",
       "      <th>4</th>\n",
       "      <td>12808281</td>\n",
       "      <td>JF373517</td>\n",
       "      <td>08/14/2022 02:00:00 PM</td>\n",
       "      <td>055XX W ARDMORE AVE</td>\n",
       "      <td>1562</td>\n",
       "      <td>SEX OFFENSE</td>\n",
       "      <td>AGGRAVATED CRIMINAL SEXUAL ABUSE</td>\n",
       "      <td>RESIDENCE</td>\n",
       "      <td>False</td>\n",
       "      <td>False</td>\n",
       "      <td>...</td>\n",
       "      <td>39.0</td>\n",
       "      <td>11</td>\n",
       "      <td>17</td>\n",
       "      <td>1138383.0</td>\n",
       "      <td>1937953.0</td>\n",
       "      <td>2022</td>\n",
       "      <td>09/14/2023 03:41:59 PM</td>\n",
       "      <td>41.985875</td>\n",
       "      <td>-87.766404</td>\n",
       "      <td>(41.985875279, -87.766403857)</td>\n",
       "    </tr>\n",
       "  </tbody>\n",
       "</table>\n",
       "<p>5 rows × 22 columns</p>\n",
       "</div>"
      ],
      "text/plain": [
       "         ID Case Number                    Date                   Block  IUCR  \\\n",
       "0  12651978    JF185322  03/24/2022 05:07:00 PM      012XX S WABASH AVE  0910   \n",
       "1  12592454    JF113025  01/14/2022 03:55:00 PM       067XX S MORGAN ST  2826   \n",
       "2  12601676    JF124024  01/13/2022 04:00:00 PM    031XX W AUGUSTA BLVD  1752   \n",
       "3  12785595    JF346553  08/05/2022 09:00:00 PM  072XX S UNIVERSITY AVE  1544   \n",
       "4  12808281    JF373517  08/14/2022 02:00:00 PM     055XX W ARDMORE AVE  1562   \n",
       "\n",
       "                 Primary Type  \\\n",
       "0         MOTOR VEHICLE THEFT   \n",
       "1               OTHER OFFENSE   \n",
       "2  OFFENSE INVOLVING CHILDREN   \n",
       "3                 SEX OFFENSE   \n",
       "4                 SEX OFFENSE   \n",
       "\n",
       "                                         Description Location Description  \\\n",
       "0                                         AUTOMOBILE          GAS STATION   \n",
       "1                     HARASSMENT BY ELECTRONIC MEANS            RESIDENCE   \n",
       "2  AGGRAVATED CRIMINAL SEXUAL ABUSE BY FAMILY MEMBER            RESIDENCE   \n",
       "3                     SEXUAL EXPLOITATION OF A CHILD            APARTMENT   \n",
       "4                   AGGRAVATED CRIMINAL SEXUAL ABUSE            RESIDENCE   \n",
       "\n",
       "   Arrest  Domestic  ...  Ward  Community Area  FBI Code  X Coordinate  \\\n",
       "0   False     False  ...  34.0              33        07     1176963.0   \n",
       "1   False      True  ...  16.0              68        26     1170805.0   \n",
       "2   False      True  ...  36.0              23        17     1155171.0   \n",
       "3    True     False  ...   5.0              69        17     1185135.0   \n",
       "4   False     False  ...  39.0              11        17     1138383.0   \n",
       "\n",
       "  Y Coordinate  Year              Updated On   Latitude  Longitude  \\\n",
       "0    1894862.0  2022  09/02/2024 03:40:51 PM  41.866844 -87.625817   \n",
       "1    1860170.0  2022  09/14/2023 03:41:59 PM  41.771782 -87.649437   \n",
       "2    1906486.0  2022  09/14/2023 03:41:59 PM  41.899206 -87.705506   \n",
       "3    1857211.0  2022  09/14/2023 03:41:59 PM  41.763338 -87.597001   \n",
       "4    1937953.0  2022  09/14/2023 03:41:59 PM  41.985875 -87.766404   \n",
       "\n",
       "                        Location  \n",
       "0  (41.866843668, -87.625816668)  \n",
       "1  (41.771782439, -87.649436929)  \n",
       "2  (41.899206068, -87.705505587)  \n",
       "3  (41.763337967, -87.597001131)  \n",
       "4  (41.985875279, -87.766403857)  \n",
       "\n",
       "[5 rows x 22 columns]"
      ]
     },
     "execution_count": 22,
     "metadata": {},
     "output_type": "execute_result"
    }
   ],
   "source": [
    "df.head()"
   ]
  },
  {
   "cell_type": "code",
   "execution_count": 23,
   "metadata": {
    "colab": {
     "base_uri": "https://localhost:8080/"
    },
    "id": "fL4rzIzSwfNI",
    "outputId": "b9da1fef-78c3-472d-fddc-3d2e79594f7e"
   },
   "outputs": [
    {
     "name": "stdout",
     "output_type": "stream",
     "text": [
      "<class 'pandas.core.frame.DataFrame'>\n",
      "RangeIndex: 239620 entries, 0 to 239619\n",
      "Data columns (total 22 columns):\n",
      " #   Column                Non-Null Count   Dtype  \n",
      "---  ------                --------------   -----  \n",
      " 0   ID                    239620 non-null  int64  \n",
      " 1   Case Number           239620 non-null  object \n",
      " 2   Date                  239620 non-null  object \n",
      " 3   Block                 239620 non-null  object \n",
      " 4   IUCR                  239620 non-null  object \n",
      " 5   Primary Type          239620 non-null  object \n",
      " 6   Description           239620 non-null  object \n",
      " 7   Location Description  238648 non-null  object \n",
      " 8   Arrest                239620 non-null  bool   \n",
      " 9   Domestic              239620 non-null  bool   \n",
      " 10  Beat                  239620 non-null  int64  \n",
      " 11  District              239620 non-null  int64  \n",
      " 12  Ward                  239610 non-null  float64\n",
      " 13  Community Area        239620 non-null  int64  \n",
      " 14  FBI Code              239620 non-null  object \n",
      " 15  X Coordinate          234885 non-null  float64\n",
      " 16  Y Coordinate          234885 non-null  float64\n",
      " 17  Year                  239620 non-null  int64  \n",
      " 18  Updated On            239620 non-null  object \n",
      " 19  Latitude              234885 non-null  float64\n",
      " 20  Longitude             234885 non-null  float64\n",
      " 21  Location              234885 non-null  object \n",
      "dtypes: bool(2), float64(5), int64(5), object(10)\n",
      "memory usage: 37.0+ MB\n"
     ]
    }
   ],
   "source": [
    "df.info()"
   ]
  },
  {
   "cell_type": "code",
   "execution_count": 24,
   "metadata": {},
   "outputs": [
    {
     "data": {
      "text/plain": [
       "(239620, 22)"
      ]
     },
     "execution_count": 24,
     "metadata": {},
     "output_type": "execute_result"
    }
   ],
   "source": [
    "df.shape"
   ]
  },
  {
   "cell_type": "markdown",
   "metadata": {
    "id": "_6UJiql1xe1D"
   },
   "source": [
    "## Data Cleaning:"
   ]
  },
  {
   "cell_type": "code",
   "execution_count": 25,
   "metadata": {
    "id": "DIyG__pUxqxF"
   },
   "outputs": [],
   "source": [
    "df = df.drop(columns=['ID','Case Number','Year','Location','Block','Primary Type', 'Updated On'])\n",
    "df['Domestic'] =  df['Domestic'].astype(int) # Converting out of Boolean\n",
    "df['Arrest'] = df['Arrest'].astype(int)"
   ]
  },
  {
   "cell_type": "code",
   "execution_count": 26,
   "metadata": {},
   "outputs": [],
   "source": [
    "df = df.drop(columns=['X Coordinate', 'Y Coordinate'])"
   ]
  },
  {
   "cell_type": "code",
   "execution_count": null,
   "metadata": {},
   "outputs": [],
   "source": []
  },
  {
   "cell_type": "code",
   "execution_count": null,
   "metadata": {},
   "outputs": [],
   "source": []
  },
  {
   "cell_type": "code",
   "execution_count": 27,
   "metadata": {},
   "outputs": [],
   "source": [
    "df['Date'] = pd.to_datetime(df['Date'], errors='coerce', format='%m/%d/%Y %I:%M:%S %p')"
   ]
  },
  {
   "cell_type": "code",
   "execution_count": 28,
   "metadata": {},
   "outputs": [],
   "source": [
    "# df['Updated On'] = pd.to_datetime(df['Updated On'], errors='coerce', format='%m/%d/%Y %I:%M:%S %p')"
   ]
  },
  {
   "cell_type": "code",
   "execution_count": 29,
   "metadata": {},
   "outputs": [
    {
     "name": "stdout",
     "output_type": "stream",
     "text": [
      "<class 'pandas.core.frame.DataFrame'>\n",
      "Index: 234232 entries, 0 to 239608\n",
      "Data columns (total 13 columns):\n",
      " #   Column                Non-Null Count   Dtype         \n",
      "---  ------                --------------   -----         \n",
      " 0   Date                  234232 non-null  datetime64[ns]\n",
      " 1   IUCR                  234232 non-null  object        \n",
      " 2   Description           234232 non-null  object        \n",
      " 3   Location Description  234232 non-null  object        \n",
      " 4   Arrest                234232 non-null  int64         \n",
      " 5   Domestic              234232 non-null  int64         \n",
      " 6   Beat                  234232 non-null  int64         \n",
      " 7   District              234232 non-null  int64         \n",
      " 8   Ward                  234232 non-null  float64       \n",
      " 9   Community Area        234232 non-null  int64         \n",
      " 10  FBI Code              234232 non-null  object        \n",
      " 11  Latitude              234232 non-null  float64       \n",
      " 12  Longitude             234232 non-null  float64       \n",
      "dtypes: datetime64[ns](1), float64(3), int64(5), object(4)\n",
      "memory usage: 25.0+ MB\n"
     ]
    }
   ],
   "source": [
    "df = df.dropna()\n",
    "df.isnull().sum()\n",
    "df.info()"
   ]
  },
  {
   "cell_type": "code",
   "execution_count": 30,
   "metadata": {},
   "outputs": [],
   "source": [
    "districts_to_keep = [1, 13, 12, 11, 2, 9, 16, 14]\n"
   ]
  },
  {
   "cell_type": "code",
   "execution_count": 31,
   "metadata": {},
   "outputs": [],
   "source": [
    "filtered_df = df[df['District'].isin(districts_to_keep)].drop_duplicates()"
   ]
  },
  {
   "cell_type": "code",
   "execution_count": 32,
   "metadata": {},
   "outputs": [
    {
     "data": {
      "text/plain": [
       "(78083, 13)"
      ]
     },
     "execution_count": 32,
     "metadata": {},
     "output_type": "execute_result"
    }
   ],
   "source": [
    "filtered_df.shape"
   ]
  },
  {
   "cell_type": "code",
   "execution_count": 33,
   "metadata": {
    "colab": {
     "base_uri": "https://localhost:8080/"
    },
    "id": "aYipkeSrfTEZ",
    "outputId": "aa2b2afd-4586-4819-d6af-0b2e599b50b3"
   },
   "outputs": [
    {
     "name": "stdout",
     "output_type": "stream",
     "text": [
      "Number of True Arrests: 27248\n",
      "Total Number of Crime Cases: 234232\n",
      "Percentage of True Arrests: 11.632910960073772%\n"
     ]
    }
   ],
   "source": [
    "num_true_arrests = df['Arrest'].sum()\n",
    "print(f\"Number of True Arrests: {num_true_arrests}\")\n",
    "total_cases = len(df)\n",
    "print(f\"Total Number of Crime Cases: {total_cases}\")\n",
    "print(f\"Percentage of True Arrests: {num_true_arrests/total_cases*100}%\") # The data is imbalanced"
   ]
  },
  {
   "cell_type": "code",
   "execution_count": 34,
   "metadata": {},
   "outputs": [
    {
     "name": "stdout",
     "output_type": "stream",
     "text": [
      "Number of True Arrests: 9634\n",
      "Total Number of Crime Cases: 78083\n",
      "Percentage of True Arrests: 12.338152991047988%\n"
     ]
    }
   ],
   "source": [
    "num_true_arrests = filtered_df['Arrest'].sum()\n",
    "print(f\"Number of True Arrests: {num_true_arrests}\")\n",
    "total_cases = len(filtered_df)\n",
    "print(f\"Total Number of Crime Cases: {total_cases}\")\n",
    "print(f\"Percentage of True Arrests: {num_true_arrests/total_cases*100}%\") "
   ]
  },
  {
   "cell_type": "code",
   "execution_count": 35,
   "metadata": {},
   "outputs": [],
   "source": [
    "filtered_df.to_pickle('Data/Chicago_crime_2022_cleaned.pickle')\n",
    "filtered_df.to_json('Chicago_crime_2022_cleaned.json')\n",
    "filtered_df.to_csv('Chicago_crime_2022_cleaned.csv',  index=False)"
   ]
  },
  {
   "cell_type": "code",
   "execution_count": null,
   "metadata": {},
   "outputs": [],
   "source": []
  }
 ],
 "metadata": {
  "colab": {
   "provenance": []
  },
  "kernelspec": {
   "display_name": ".venv",
   "language": "python",
   "name": "python3"
  },
  "language_info": {
   "codemirror_mode": {
    "name": "ipython",
    "version": 3
   },
   "file_extension": ".py",
   "mimetype": "text/x-python",
   "name": "python",
   "nbconvert_exporter": "python",
   "pygments_lexer": "ipython3",
   "version": "3.12.8"
  }
 },
 "nbformat": 4,
 "nbformat_minor": 4
}
